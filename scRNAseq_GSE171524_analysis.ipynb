{
  "nbformat": 4,
  "nbformat_minor": 0,
  "metadata": {
    "colab": {
      "provenance": [],
      "gpuType": "T4",
      "authorship_tag": "ABX9TyPc2SEDTlJj24jdc1PaitlR",
      "include_colab_link": true
    },
    "kernelspec": {
      "name": "python3",
      "display_name": "Python 3"
    },
    "language_info": {
      "name": "python"
    },
    "accelerator": "GPU"
  },
  "cells": [
    {
      "cell_type": "markdown",
      "metadata": {
        "id": "view-in-github",
        "colab_type": "text"
      },
      "source": [
        "<a href=\"https://colab.research.google.com/github/chan-98/single-cell-RNAseq-analysis/blob/main/scRNAseq_GSE171524_analysis.ipynb\" target=\"_parent\"><img src=\"https://colab.research.google.com/assets/colab-badge.svg\" alt=\"Open In Colab\"/></a>"
      ]
    },
    {
      "cell_type": "markdown",
      "source": [
        "Dataset link: https://www.ncbi.nlm.nih.gov/geo/query/acc.cgi?acc=GSE171524\n",
        "The 29 CSV files provided in Supplementary table in GSE171524_RAW.tar folder was used."
      ],
      "metadata": {
        "id": "agy365nYV-Va"
      }
    },
    {
      "cell_type": "code",
      "execution_count": null,
      "metadata": {
        "id": "73lw6-DuHMMM"
      },
      "outputs": [],
      "source": [
        "!pip install scanpy scvi-tools doubletdetection celltypist hyperopt \"ray[tune]\" scikit-misc leidenalg"
      ]
    },
    {
      "cell_type": "markdown",
      "source": [
        "#The Dataset\n",
        "\n",
        "*COVID-19 single-cell transcriptomic lung atlas*\n",
        "\n",
        "**GSE171524**\n",
        " - Supplementary files - 29 samples"
      ],
      "metadata": {
        "id": "HAzV4QZvIIYt"
      }
    },
    {
      "cell_type": "code",
      "source": [
        "!wget ftp://ftp.ncbi.nlm.nih.gov/geo/series/GSE171nnn/GSE171524/suppl/GSE171524_RAW.tar"
      ],
      "metadata": {
        "id": "F4D-5wBTyMg9"
      },
      "execution_count": null,
      "outputs": []
    },
    {
      "cell_type": "code",
      "source": [
        "!mkdir -p GSE171524_RAW && mv GSE171524_RAW.tar GSE171524_RAW/.\n",
        "!cd GSE171524_RAW && tar -xf GSE171524_RAW.tar && rm GSE171524_RAW.tar && cd ../"
      ],
      "metadata": {
        "id": "1e-l46s-yyTA"
      },
      "execution_count": null,
      "outputs": []
    },
    {
      "cell_type": "code",
      "source": [
        "import os\n",
        "file_paths = [\"GSE171524_RAW/\" + f for f in os.listdir(\"GSE171524_RAW/\")]\n",
        "print(file_paths)"
      ],
      "metadata": {
        "id": "toQEdSNjHg2k"
      },
      "execution_count": null,
      "outputs": []
    },
    {
      "cell_type": "code",
      "source": [
        "import scanpy as sc\n",
        "import pandas as pd\n",
        "import numpy as np"
      ],
      "metadata": {
        "id": "KOoWg4ALJAgT"
      },
      "execution_count": null,
      "outputs": []
    },
    {
      "cell_type": "code",
      "source": [
        "def load(fpath):\n",
        "  \"\"\"Load anndata and make new columns for sample metadata\"\"\"\n",
        "  adata = sc.read_csv(fpath).T\n",
        "  adata.obs[\"Sample\"] = fpath.split(\"/\")[1].split(\"_\")[0]\n",
        "  return adata"
      ],
      "metadata": {
        "id": "pL_rT_F9Kz-q"
      },
      "execution_count": null,
      "outputs": []
    },
    {
      "cell_type": "markdown",
      "source": [
        "Performing analysis only on 2 of the count matrices due to RAM constraints"
      ],
      "metadata": {
        "id": "8bZvOEvH2cqC"
      }
    },
    {
      "cell_type": "code",
      "source": [
        "adatas = [load(x) for x in file_paths[:2]]  # Remove the [:2] for complete analysis\n",
        "adatas"
      ],
      "metadata": {
        "id": "R9ibFq6PNXq8"
      },
      "execution_count": null,
      "outputs": []
    },
    {
      "cell_type": "code",
      "source": [
        "adatas[1].obs.head(n=2)"
      ],
      "metadata": {
        "id": "QIm_vPmBWzv_"
      },
      "execution_count": null,
      "outputs": []
    },
    {
      "cell_type": "code",
      "source": [
        "adatas[1].var"
      ],
      "metadata": {
        "id": "B0yv2Gut3j0P"
      },
      "execution_count": null,
      "outputs": []
    },
    {
      "cell_type": "code",
      "source": [
        "adatas[1].X"
      ],
      "metadata": {
        "id": "b_RQYtaWxbmX"
      },
      "execution_count": null,
      "outputs": []
    },
    {
      "cell_type": "markdown",
      "source": [
        "# QC\n",
        "\n",
        "Since the data is already UMI filtered matrix, we can skip the filtering part."
      ],
      "metadata": {
        "id": "taKK8x96RJpB"
      }
    },
    {
      "cell_type": "code",
      "source": [
        "def qc(adata):\n",
        "  sc.pp.filter_genes(adata, min_cells = 10)\n",
        "  # Reducing dimensions to top 2000 genes only\n",
        "  sc.pp.highly_variable_genes(adata, n_top_genes = 2000, subset = True, flavor = 'seurat_v3')\n",
        "  # Remove artifaacts and contaminants\n",
        "  adata.var[\"mt\"] = adata.var_names.str.startswith((\"MT-\", \"mt-\", \"Mt-\"))\n",
        "  adata.var[\"ribo\"] = adata.var_names.str.startswith((\"RPS\", \"RPL\"))\n",
        "  adata.var[\"hb\"] = adata.var_names.str.startswith((\"HB\", \"Dll\"))\n",
        "  sc.pp.normalize_total(adata, target_sum=1e4)\n",
        "  sc.pp.calculate_qc_metrics(adata, qc_vars=[\"mt\", \"ribo\", \"hb\"], inplace=True, percent_top=[20], log1p=True)\n",
        "  remove_cols = [\"total_counts_mt\", \"log1p_total_counts_mt\", \"total_counts_ribo\",\n",
        "                 \"log1p_total_counts_ribo\", \"total_counts_hb\", \"log1p_total_counts_hb\"]\n",
        "  adata.obs.drop(columns=remove_cols, inplace=True)\n",
        "  return adata"
      ],
      "metadata": {
        "id": "Kmxy7NMipSjh"
      },
      "execution_count": null,
      "outputs": []
    },
    {
      "cell_type": "code",
      "source": [
        "adatas = [qc(adata) for adata in adatas]\n",
        "adatas"
      ],
      "metadata": {
        "id": "ISwghOW2UYhM"
      },
      "execution_count": null,
      "outputs": []
    },
    {
      "cell_type": "markdown",
      "source": [
        "Means, Variances and Variances_norm are added when calculating highly variable genes."
      ],
      "metadata": {
        "id": "lm45-upkbQcR"
      }
    },
    {
      "cell_type": "code",
      "source": [
        "adatas[1].var"
      ],
      "metadata": {
        "id": "wI_zOmJ0bmEO"
      },
      "execution_count": null,
      "outputs": []
    },
    {
      "cell_type": "code",
      "source": [
        "adatas[1].obs"
      ],
      "metadata": {
        "id": "fq48PBvX4QzN"
      },
      "execution_count": null,
      "outputs": []
    },
    {
      "cell_type": "code",
      "source": [
        "df_adatas = pd.concat([adata.obs for adata in adatas])\n",
        "df_adatas = df_adatas.sort_values(\"Sample\")\n",
        "df_adatas"
      ],
      "metadata": {
        "id": "ZMSCYztoTxeA"
      },
      "execution_count": null,
      "outputs": []
    },
    {
      "cell_type": "markdown",
      "source": [
        "Plot MT, RIBO and HB counts, n_genes and other metrics per **sample**"
      ],
      "metadata": {
        "id": "xtpVyjuHaXdi"
      }
    },
    {
      "cell_type": "code",
      "source": [
        "import seaborn as sns\n",
        "import matplotlib.pyplot as plt"
      ],
      "metadata": {
        "id": "U4KOVTgHUz1U"
      },
      "execution_count": null,
      "outputs": []
    },
    {
      "cell_type": "code",
      "source": [
        "#%matplotlib inline"
      ],
      "metadata": {
        "id": "jIIDwRMp0nWo"
      },
      "execution_count": null,
      "outputs": []
    },
    {
      "cell_type": "code",
      "source": [
        "def label(x, color, label):\n",
        "    ax = plt.gca()\n",
        "    ax.text(0, .2, label, fontweight=\"bold\", color=color,\n",
        "            ha=\"left\", va=\"center\", transform=ax.transAxes)\n",
        "\n",
        "def plotkde(df_adatas, value):\n",
        "  sns.set(style=\"white\", rc={\"axes.facecolor\": (0, 0, 0, 0)})\n",
        "  g = sns.FacetGrid(df_adatas, row=\"Sample\", hue=\"Sample\", aspect=15, height=1.0, palette=\"tab20\")\n",
        "\n",
        "  g.map(sns.kdeplot, value, clip_on=False, fill=True, alpha=1, linewidth=1.5)\n",
        "  g.map(sns.kdeplot, value, clip_on=False, color=\"w\", lw=2, alpha=1)\n",
        "  g.map(plt.axhline, y=0, lw=2, clip_on=False)\n",
        "  g.map(label, value)\n",
        "\n",
        "  g.set_titles(\"\")\n",
        "  g.set(yticks=[])\n",
        "  g.despine(bottom=True, left=True)\n",
        "\n",
        "  for ax in g.axes.flat:\n",
        "    ax.axvline(x=df_adatas[value].median(), color='r', linestyle='-')\n",
        "\n",
        "  plt.show()"
      ],
      "metadata": {
        "id": "ycbm3y-RbAaz"
      },
      "execution_count": null,
      "outputs": []
    },
    {
      "cell_type": "code",
      "source": [
        "plotkde(df_adatas, \"pct_counts_ribo\")"
      ],
      "metadata": {
        "id": "CQZejdRGdrAZ"
      },
      "execution_count": null,
      "outputs": []
    },
    {
      "cell_type": "code",
      "source": [
        "plotkde(df_adatas, \"n_genes_by_counts\")"
      ],
      "metadata": {
        "id": "Heo85Z_rdyZz"
      },
      "execution_count": null,
      "outputs": []
    },
    {
      "cell_type": "code",
      "source": [
        "plotkde(df_adatas, \"pct_counts_in_top_20_genes\")"
      ],
      "metadata": {
        "id": "W-vBM93dfi2i"
      },
      "execution_count": null,
      "outputs": []
    },
    {
      "cell_type": "markdown",
      "source": [
        "For unfiltered data, run the following code to filter outliers:"
      ],
      "metadata": {
        "id": "CVmlsHczf8F2"
      }
    },
    {
      "cell_type": "code",
      "source": [
        "def filter_outliers(adata):\n",
        "  sc.pp.filter_genes(adata, min_cells = 10)\n",
        "  upper_lim = np.quantile(adata.obs.n_genes_by_counts.values, .98)    # upper_lim ~= 3000\n",
        "  print(f\"Upper limit is: {upper_lim}\")\n",
        "  sc.pp.filter_cells(adata, max_genes=upper_lim)\n",
        "  adata = adata[adata.obs.pct_counts_mt < 20]\n",
        "  adata = adata[adata.obs.pct_counts_ribo < 2]\n",
        "  return adata\n",
        "\n",
        "adatas = [filter_outliers(adata) for adata in adatas]"
      ],
      "metadata": {
        "id": "uCHfYVfE1YZz"
      },
      "execution_count": null,
      "outputs": []
    },
    {
      "cell_type": "code",
      "source": [
        "adatas[1].obs"
      ],
      "metadata": {
        "id": "QhCxNvVx14iu"
      },
      "execution_count": null,
      "outputs": []
    },
    {
      "cell_type": "markdown",
      "source": [
        "# Normalization"
      ],
      "metadata": {
        "id": "5-pawlgwuVma"
      }
    },
    {
      "cell_type": "markdown",
      "source": [
        "Normalise every cell to 10,000 UMI (Standard, can be changed acc to data)\n"
      ],
      "metadata": {
        "id": "vABO_2FDuxGx"
      }
    },
    {
      "cell_type": "code",
      "source": [
        "def norm(adata):\n",
        "  sc.pp.normalize_total(adata, target_sum=1e4)\n",
        "  sc.pp.log1p(adata)\n",
        "  # Storing rawdata before modification\n",
        "  adata.raw = adata\n",
        "  sc.pp.filter_genes(adata, min_cells=10)\n",
        "  return adata"
      ],
      "metadata": {
        "id": "nLs5EW4Xu0JP"
      },
      "execution_count": null,
      "outputs": []
    },
    {
      "cell_type": "code",
      "source": [
        "adatas = [norm(adata) for adata in adatas]"
      ],
      "metadata": {
        "id": "sba6KxmCxCyG"
      },
      "execution_count": null,
      "outputs": []
    },
    {
      "cell_type": "code",
      "source": [
        "adatas[0].X.sum(axis=1) # After normalisation"
      ],
      "metadata": {
        "id": "rQP-X9lxwR55"
      },
      "execution_count": null,
      "outputs": []
    },
    {
      "cell_type": "code",
      "source": [
        "adatas[0].X"
      ],
      "metadata": {
        "id": "0NpugrabvgQQ"
      },
      "execution_count": null,
      "outputs": []
    },
    {
      "cell_type": "markdown",
      "source": [
        "# Clustering"
      ],
      "metadata": {
        "id": "khiLb-AD29Co"
      }
    },
    {
      "cell_type": "code",
      "source": [
        "ad1 = adatas[1]\n",
        "sc.pl.highly_variable_genes(ad1)"
      ],
      "metadata": {
        "id": "2quTj0brTWsL"
      },
      "execution_count": null,
      "outputs": []
    },
    {
      "cell_type": "markdown",
      "source": [
        "As it is already clustered and filtered data, only highly variable genes are present which are shown by black spots (other genes are generally shown as grey)"
      ],
      "metadata": {
        "id": "xRWW-O3Mb84W"
      }
    },
    {
      "cell_type": "markdown",
      "source": [
        "Now we have a set of 2000 genes. Further dimensionality reduction include:\n",
        "- Regression\n",
        "- Scaling (Normalization)\n",
        "- Principal Component Analysis to reduce (by default - reduces to 50 PCs (50 genes))\n",
        "\n",
        "And plot the 50 PCs to see how much they contribute to the variance."
      ],
      "metadata": {
        "id": "WP68gmzkV2qZ"
      }
    },
    {
      "cell_type": "code",
      "source": [
        "def dimreduce(adata):\n",
        "  \"\"\"\n",
        "  Dimensionality reduction for single AnnData object\n",
        "  \"\"\"\n",
        "  # Filtering out the genes which are not highly variable\n",
        "  adata = adata[:, adata.var.highly_variable]\n",
        "  # Eliminating differences arising due to sampling depth, mtRNA and ribosomal RNA\n",
        "  sc.pp.regress_out(adata, ['total_counts', 'pct_counts_mt', 'pct_counts_ribo'])\n",
        "  # Scaling (to normalise) each gene to the unit variance of the gene\n",
        "  sc.pp.scale(adata, max_value=10)\n",
        "  # PCA analysis (by default keeps top 50PCs)\n",
        "  sc.tl.pca(adata, svd_solver='arpack')\n",
        "  sc.pl.pca_variance_ratio(adata, log=True, n_pcs = 50)\n",
        "\n",
        "ad1 = adatas[1].copy()\n",
        "dimreduce(ad1)"
      ],
      "metadata": {
        "id": "57iLbl5xdQO_"
      },
      "execution_count": null,
      "outputs": []
    },
    {
      "cell_type": "markdown",
      "source": [
        "Calculate the NEIGHBOURS of the top 30 PCs (distances). Neighbours denote similar cells, and similar cells will be clustered together.\n",
        "\n",
        "\n"
      ],
      "metadata": {
        "id": "As77j_yPXB6k"
      }
    },
    {
      "cell_type": "code",
      "source": [
        "sc.pp.neighbors(ad1, n_pcs = 30)"
      ],
      "metadata": {
        "id": "c4gUMyQ5XUUF"
      },
      "execution_count": null,
      "outputs": []
    },
    {
      "cell_type": "code",
      "source": [
        "ad1"
      ],
      "metadata": {
        "id": "2rA-LP-sXhT5"
      },
      "execution_count": null,
      "outputs": []
    },
    {
      "cell_type": "code",
      "source": [
        "ad1.obsp['connectivities']"
      ],
      "metadata": {
        "id": "krH7M-m7X3Q5"
      },
      "execution_count": null,
      "outputs": []
    },
    {
      "cell_type": "code",
      "source": [
        "ad1.obsp['distances'].toarray()"
      ],
      "metadata": {
        "id": "NE2n162pYA6A"
      },
      "execution_count": null,
      "outputs": []
    },
    {
      "cell_type": "code",
      "source": [
        "ad1.obs"
      ],
      "metadata": {
        "id": "PmaT3ZzRtp2i"
      },
      "execution_count": null,
      "outputs": []
    },
    {
      "cell_type": "markdown",
      "source": [
        "Convert the 30 dimensions to 2 dimensions using UMAP clustering based on connectivities and distances."
      ],
      "metadata": {
        "id": "mkV4YrCDYIm2"
      }
    },
    {
      "cell_type": "code",
      "source": [
        "sc.pp.neighbors(ad1, n_pcs = 30)"
      ],
      "metadata": {
        "id": "GJH6alxZo9K3"
      },
      "execution_count": null,
      "outputs": []
    },
    {
      "cell_type": "code",
      "source": [
        "sc.tl.umap(ad1)\n",
        "sc.pl.umap(ad1)"
      ],
      "metadata": {
        "id": "RDLDhCkMYUCb"
      },
      "execution_count": null,
      "outputs": []
    },
    {
      "cell_type": "markdown",
      "source": [
        "Assign colours and annotate each cluster.\n",
        "\n",
        "Resolution closer to 1 gives more clusters, closer to 0 gives fewer clusters, start with 0.5 and adjust accordingly."
      ],
      "metadata": {
        "id": "zoOu6IQSYzBc"
      }
    },
    {
      "cell_type": "code",
      "source": [
        "sc.tl.leiden(ad1, resolution = 0.5)"
      ],
      "metadata": {
        "id": "wNEWIiBRYysS"
      },
      "execution_count": null,
      "outputs": []
    },
    {
      "cell_type": "code",
      "source": [
        "ad1.obs"
      ],
      "metadata": {
        "id": "nYLuBkr1Y6O2"
      },
      "execution_count": null,
      "outputs": []
    },
    {
      "cell_type": "markdown",
      "source": [
        "Replot the UMAP based on the col `leiden`"
      ],
      "metadata": {
        "id": "aypUW9HllpCG"
      }
    },
    {
      "cell_type": "code",
      "source": [
        "sc.pl.umap(ad1, color=['leiden'])"
      ],
      "metadata": {
        "id": "QiyWxEqtZfgl"
      },
      "execution_count": null,
      "outputs": []
    },
    {
      "cell_type": "markdown",
      "source": [
        "This data will be annotated using `celltypist`"
      ],
      "metadata": {
        "id": "42EyjLO1lzJn"
      }
    },
    {
      "cell_type": "markdown",
      "source": [
        "---------\n",
        "Clustering for ALL `adatas` (integrated)"
      ],
      "metadata": {
        "id": "lXBZyPf_lrua"
      }
    },
    {
      "cell_type": "code",
      "source": [
        "\"\"\"For all adata objects (adatas)\"\"\"\n",
        "\n",
        "adata_combined = sc.concat(adatas)\n",
        "adata_combined"
      ],
      "metadata": {
        "id": "r_Oq7LT5UjPP"
      },
      "execution_count": null,
      "outputs": []
    },
    {
      "cell_type": "code",
      "source": [
        "adata_combined.X"
      ],
      "metadata": {
        "id": "l_uPFNUaeL2u"
      },
      "execution_count": null,
      "outputs": []
    },
    {
      "cell_type": "markdown",
      "source": [
        "This is a dense matrix - consumes more memory, and has actual physical values for each entry.\n",
        "\n",
        "If our data was not already 2 dimensional and processed, we would have to convert it to sparse matrix."
      ],
      "metadata": {
        "id": "puCMeCtIeu-h"
      }
    },
    {
      "cell_type": "code",
      "source": [
        "from scipy.sparse import csr_matrix"
      ],
      "metadata": {
        "id": "iaarTl8Re9fN"
      },
      "execution_count": null,
      "outputs": []
    },
    {
      "cell_type": "code",
      "source": [
        "adata_combined.X = csr_matrix(adata_combined.X)\n",
        "adata_combined.X"
      ],
      "metadata": {
        "id": "epklWHWRe-2J"
      },
      "execution_count": null,
      "outputs": []
    },
    {
      "cell_type": "code",
      "source": [
        "adata_combined.write_h5ad('combined.h5ad') # Save"
      ],
      "metadata": {
        "id": "xqvVuRg6fQMz"
      },
      "execution_count": null,
      "outputs": []
    },
    {
      "cell_type": "code",
      "source": [
        "# adata_combined = sc.read_h5ad('combined.h5ad')\n",
        "\n",
        "adata_combined.obs.groupby(\"Sample\").count()"
      ],
      "metadata": {
        "id": "JlV9eJwCfh-Z"
      },
      "execution_count": null,
      "outputs": []
    },
    {
      "cell_type": "markdown",
      "source": [
        "If the dimension ( `n_vars` ) was too high (in thousands or tens of thousands instead of 2), do the following to reduce dims:"
      ],
      "metadata": {
        "id": "ErPngQZPgCf2"
      }
    },
    {
      "cell_type": "code",
      "source": [
        "sc.pp.filter_genes(adata_combined, min_cells = 100)"
      ],
      "metadata": {
        "id": "jKBbHDezgCH5"
      },
      "execution_count": null,
      "outputs": []
    },
    {
      "cell_type": "markdown",
      "source": [
        "Now we need to correct for batch effects using regression, scaling and perform PCA analysis"
      ],
      "metadata": {
        "id": "QhqcCMDygdux"
      }
    },
    {
      "cell_type": "code",
      "source": [
        "import scvi"
      ],
      "metadata": {
        "id": "TkdV9vFtho7F"
      },
      "execution_count": null,
      "outputs": []
    },
    {
      "cell_type": "code",
      "source": [
        "def dimreduce(adata):\n",
        "  \"\"\"\n",
        "  Clustering for all adata objects combined\n",
        "  \"\"\"\n",
        "  # Save the counts\n",
        "  adata.layers['counts'] = adata.X.copy()\n",
        "  print(\"Normalising raw counts\")\n",
        "  sc.pp.normalize_total(adata, target_sum = 1e4)\n",
        "  sc.pp.log1p(adata)\n",
        "  adata.raw = adata\n",
        "  print(f\"This is what data looks like: {adata.obs.head(n=2)}\")\n",
        "  print(\"Fetching highly variable genes (top 2000)\")\n",
        "  sc.pp.highly_variable_genes(adata, n_top_genes=2000,\n",
        "                              subset = True, layer = 'counts',\n",
        "                              flavor = \"seurat_v3\", batch_key=\"Sample\") # provide batch_key for combined adata\n",
        "  print(\"Setting up SCVI model\")\n",
        "  scvi.model.SCVI.setup_anndata(adata, layer = \"counts\",\n",
        "                             categorical_covariate_keys=[\"Sample\"],\n",
        "                             continuous_covariate_keys=['pct_counts_mt', 'total_counts', 'pct_counts_ribo'])\n",
        "  model = scvi.model.SCVI(adata)\n",
        "  print(\"Training model\")\n",
        "  model.train()\n",
        "  print(f\"Trained SCVI model (np array) looks like: f{model.get_latent_representation().shape}\")\n",
        "  print(\"Computing X_scVI\")\n",
        "  # Save the model\n",
        "  adata.obsm[\"X_scVI\"] = model.get_latent_representation()\n",
        "  # Add layer for normalized values\n",
        "  adata.layers['scvi_normalized'] = model.get_normalized_expression(library_size = 1e4)\n",
        "  print(\"Calculating neighbours using SCVI results\")\n",
        "  sc.pp.neighbors(adata, use_rep = 'X_scVI') # gives distances and connectivities\n",
        "  print(\"UMAP clustering\")\n",
        "  sc.tl.umap(adata)\n",
        "  sc.tl.leiden(adata, resolution = 0.5)\n",
        "  #sc.pl.umap(adata, color = ['leiden', 'Sample'], frameon = False)\n",
        "  print(\"Done\")\n",
        "  return adata\n",
        "\n",
        "integrated_adata = dimreduce(adata_combined)"
      ],
      "metadata": {
        "id": "eYH8GeRxgkI_"
      },
      "execution_count": null,
      "outputs": []
    },
    {
      "cell_type": "code",
      "source": [
        "integrated_adata.write_h5ad('integrated.h5ad')"
      ],
      "metadata": {
        "id": "cUPnpZq49mOi"
      },
      "execution_count": null,
      "outputs": []
    },
    {
      "cell_type": "markdown",
      "source": [
        "![image.png](data:image/png;base64,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)\n",
        "\n",
        "***Note: May fail due to limited compute resources, try again, or proceed with `ad1`***"
      ],
      "metadata": {
        "id": "mptu2muxl9K6"
      }
    },
    {
      "cell_type": "markdown",
      "source": [
        "# Cell Typist for Cluster Annotation"
      ],
      "metadata": {
        "id": "DSAYK4mgoNrG"
      }
    },
    {
      "cell_type": "code",
      "source": [
        "import celltypist\n",
        "from celltypist import models"
      ],
      "metadata": {
        "id": "AQlG5fG6lGCR"
      },
      "execution_count": null,
      "outputs": []
    },
    {
      "cell_type": "markdown",
      "source": [
        "Looking at available models for cell type classification.\n",
        "\n",
        "Documentation provided at https://github.com/Teichlab/celltypist is followed for processing and plotting."
      ],
      "metadata": {
        "id": "ccu3ZS3OnsZU"
      }
    },
    {
      "cell_type": "code",
      "source": [
        "models.get_all_models()"
      ],
      "metadata": {
        "id": "vGND6Dy4nlVP"
      },
      "execution_count": null,
      "outputs": []
    },
    {
      "cell_type": "code",
      "source": [
        "model_pancreas = models.Model.load(model=\"Human_Lung_Atlas.pkl\")"
      ],
      "metadata": {
        "id": "ZLkbn9UHRT3q"
      },
      "execution_count": null,
      "outputs": []
    },
    {
      "cell_type": "code",
      "source": [
        "integrated_adata.obs.head(n=3)"
      ],
      "metadata": {
        "id": "eKS2JkH211Yi"
      },
      "execution_count": null,
      "outputs": []
    },
    {
      "cell_type": "markdown",
      "source": [
        "Select model: Human Lung Atlas"
      ],
      "metadata": {
        "id": "cg3gkel97vcT"
      }
    },
    {
      "cell_type": "code",
      "source": [
        "def predict_cells(adata):\n",
        "  sc.pp.normalize_total(adata, target_sum=1e4)\n",
        "  sc.pp.log1p(adata)\n",
        "  #sc.pp.highly_variable_genes(adata, flavor=\"seurat\", n_top_genes=3000)\n",
        "  #adata.X = adata.X.toarray()\n",
        "\n",
        "  predictions = celltypist.annotate(adata, model=model_pancreas, majority_voting=False)\n",
        "  predictions_adata = predictions.to_adata()\n",
        "  adata.obs[\"lung_label\"] = predictions_adata.obs.loc[adata.obs.index, \"predicted_labels\"]\n",
        "  adata.obs[\"lung_score\"] = predictions_adata.obs.loc[adata.obs.index, \"conf_score\"]\n",
        "\n",
        "  return adata"
      ],
      "metadata": {
        "id": "g2NyXWVxn-ca"
      },
      "execution_count": null,
      "outputs": []
    },
    {
      "cell_type": "code",
      "source": [
        "predictions = predict_cells(integrated_adata.copy())"
      ],
      "metadata": {
        "id": "fZPH28YVR5bP"
      },
      "execution_count": null,
      "outputs": []
    },
    {
      "cell_type": "code",
      "source": [
        "predictions.obs.head(n=3)"
      ],
      "metadata": {
        "id": "PozbJ3I8R8mF"
      },
      "execution_count": null,
      "outputs": []
    },
    {
      "cell_type": "code",
      "source": [
        "predictions.obs[\"Sample\"].unique()"
      ],
      "metadata": {
        "id": "1OJ3_mWM-nIS"
      },
      "execution_count": null,
      "outputs": []
    },
    {
      "cell_type": "code",
      "source": [
        "predictions.obs.to_csv('PREDICTIONS_GSM5226575_GSM5226599.csv')"
      ],
      "metadata": {
        "id": "S2qgp-eDSTUK"
      },
      "execution_count": null,
      "outputs": []
    },
    {
      "cell_type": "code",
      "source": [
        "predictions.obs[\"conf_score\"].describe()"
      ],
      "metadata": {
        "id": "s_RoPGJwT5tw"
      },
      "execution_count": null,
      "outputs": []
    },
    {
      "cell_type": "code",
      "source": [
        "sc.pl.umap(predictions, color=[\"leiden\", \"conf_score\"], wspace=0.4)"
      ],
      "metadata": {
        "id": "8O6oK65ITbF8"
      },
      "execution_count": null,
      "outputs": []
    },
    {
      "cell_type": "code",
      "source": [
        "sc.pl.umap(predictions, color=[\"predicted_labels\"])"
      ],
      "metadata": {
        "id": "5qVJlSlL_R26"
      },
      "execution_count": null,
      "outputs": []
    },
    {
      "cell_type": "markdown",
      "source": [
        "Comparing leiden clusters with predicted labels"
      ],
      "metadata": {
        "id": "Auo5nKQlUHWJ"
      }
    },
    {
      "cell_type": "code",
      "source": [
        "pd.crosstab(predictions.obs[\"leiden\"], predictions.obs[\"predicted_labels\"])\n"
      ],
      "metadata": {
        "id": "1ryQoy38UK2E"
      },
      "execution_count": null,
      "outputs": []
    },
    {
      "cell_type": "code",
      "source": [
        "# Remove low-confidence predictions\n",
        "predictions = predictions[predictions.obs[\"conf_score\"] > 0.6, :]\n",
        "# Or can be labelled as unknown\n",
        "#predictions.obs.loc[predictions.obs[\"conf_score\"] < 0.6, \"predicted_labels\"] = \"unknown\""
      ],
      "metadata": {
        "id": "qH9SfqzhUTvV"
      },
      "execution_count": null,
      "outputs": []
    },
    {
      "cell_type": "markdown",
      "source": [
        "# Export to .h5ad"
      ],
      "metadata": {
        "id": "FjrMHdW-UvlQ"
      }
    },
    {
      "cell_type": "markdown",
      "source": [
        "Refine metadata and remove unwanted cols"
      ],
      "metadata": {
        "id": "BxJSadhVUx1o"
      }
    },
    {
      "cell_type": "code",
      "source": [
        "GSM5226575_GSM5226599_annotated = predictions.copy()\n",
        "GSM5226575_GSM5226599_annotated.obs = GSM5226575_GSM5226599_annotated.obs[[\n",
        "    \"Sample\", \"leiden\", \"n_genes_by_counts\",\n",
        "    \"total_counts\", \"pct_counts_mt\",\n",
        "    \"predicted_labels\", \"conf_score\"\n",
        "]]\n",
        "\n",
        "# Keeping original cluster annotations and predicted cluster annotations for comparison."
      ],
      "metadata": {
        "id": "DzJmTVOsUf_T"
      },
      "execution_count": null,
      "outputs": []
    },
    {
      "cell_type": "code",
      "source": [
        "GSM5226575_GSM5226599_annotated.write(\"GSM5226575_GSM5226599_annotated.h5ad\")"
      ],
      "metadata": {
        "id": "MrN6MEd_VD66"
      },
      "execution_count": null,
      "outputs": []
    },
    {
      "cell_type": "code",
      "source": [
        "!ls"
      ],
      "metadata": {
        "id": "P_TdlpAXTXh8"
      },
      "execution_count": null,
      "outputs": []
    },
    {
      "cell_type": "markdown",
      "source": [
        "Visualising cell type distribution"
      ],
      "metadata": {
        "id": "txmkDSAYVTKg"
      }
    },
    {
      "cell_type": "code",
      "source": [
        "GSM5226575_GSM5226599_annotated.obs[\"predicted_labels\"].value_counts(normalize=True).plot(kind=\"bar\")\n"
      ],
      "metadata": {
        "id": "W42PJVj8VSf7"
      },
      "execution_count": null,
      "outputs": []
    },
    {
      "cell_type": "markdown",
      "source": [
        "Checking UMAP for marker genes (test)"
      ],
      "metadata": {
        "id": "MQi2Ro9kVZdb"
      }
    },
    {
      "cell_type": "code",
      "source": [
        "# sc.pl.umap(GSM5226575_GSM5226599_annotated, color=[\"INS\", \"GCG\", \"SST\", \"PPY\"])\n",
        "# Throws key error because this dataset does not contain marker genes"
      ],
      "metadata": {
        "id": "PmCRI3qZS6Kq"
      },
      "execution_count": null,
      "outputs": []
    },
    {
      "cell_type": "markdown",
      "source": [
        "Future work: Marker genes can be identified."
      ],
      "metadata": {
        "id": "DOgP23swVxaD"
      }
    }
  ]
}